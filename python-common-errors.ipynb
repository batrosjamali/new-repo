{
 "cells": [
  {
   "cell_type": "markdown",
   "metadata": {
    "id": "UDOvKu9zYENi"
   },
   "source": [
    "# Understanding Errors and Exceptions in Python \n",
    "\n",
    "![](https://images.unsplash.com/photo-1616990277552-3db5bca0ce13?ixlib=rb-1.2.1&ixid=MnwxMjA3fDB8MHxwaG90by1wYWdlfHx8fGVufDB8fHx8&auto=format&fit=crop&w=1072&q=80)\n",
    "\n",
    "One of the most common situations while writing code is getting stuck on an unidentifiable error. In such a case, python's ecosystem helps us to trace back our function calls with the help of **traceback reports**, to find out the exception raised. \n",
    "\n",
    "![Imgur](https://i.imgur.com/LsZIyLI.png)\n",
    "\n",
    "\n",
    "\n",
    "These tracebacks return the **exception name** and the **error message** along with the executed code to help us identify the reason for these exceptions being raised. \n",
    "\n",
    "*Exceptions raised simply define the type of error our program has run into.* Which is why these terms are used interchangeably, but precisely mean the same.\n",
    "\n",
    "There are a number of built-in exceptions in python library, who's awareness can help to speed up the our programming. Let's look at some of the important buit-in exceptions in python.  "
   ]
  },
  {
   "cell_type": "markdown",
   "metadata": {
    "id": "JUDvA6FpZlwH"
   },
   "source": [
    "## SyntaxError\n",
    "\n",
    "The most common type of error in a Python program is when the user uses incorrect syntax. i.e, when a piece of code is not in accordance with its documentation. \n",
    "\n",
    "In the code below, the variable `a` has been declared with its desired data type stated before the variable name, which is not how a variable is declared in Python. "
   ]
  },
  {
   "cell_type": "code",
   "execution_count": 1,
   "metadata": {
    "colab": {
     "base_uri": "https://localhost:8080/",
     "height": 130
    },
    "executionInfo": {
     "elapsed": 7,
     "status": "error",
     "timestamp": 1656304225280,
     "user": {
      "displayName": "Himani Gulati",
      "userId": "01891132410038126744"
     },
     "user_tz": -330
    },
    "id": "KcbLLG9bZlKK",
    "outputId": "18fe4cd3-8a60-433a-ee44-30d1eef014cf"
   },
   "outputs": [
    {
     "ename": "SyntaxError",
     "evalue": "ignored",
     "output_type": "error",
     "traceback": [
      "\u001b[0;36m  File \u001b[0;32m\"<ipython-input-1-14f5aded83ca>\"\u001b[0;36m, line \u001b[0;32m1\u001b[0m\n\u001b[0;31m    int a = 2.8\u001b[0m\n\u001b[0m        ^\u001b[0m\n\u001b[0;31mSyntaxError\u001b[0m\u001b[0;31m:\u001b[0m invalid syntax\n"
     ]
    }
   ],
   "source": [
    "int a = 2.8\n",
    "a"
   ]
  },
  {
   "cell_type": "markdown",
   "metadata": {
    "id": "_5pN6adIjNNP"
   },
   "source": [
    "The error message apprises us that there was an error in our syntax. Delving into the traceback, there is a $ ^ $ Caret symbol, that points out the location of incorrect code which caused the exception . "
   ]
  },
  {
   "cell_type": "code",
   "execution_count": 2,
   "metadata": {
    "colab": {
     "base_uri": "https://localhost:8080/"
    },
    "executionInfo": {
     "elapsed": 361,
     "status": "ok",
     "timestamp": 1656304503870,
     "user": {
      "displayName": "Himani Gulati",
      "userId": "01891132410038126744"
     },
     "user_tz": -330
    },
    "id": "on-2va0WcLci",
    "outputId": "d8f72aec-42d7-4fe2-dfd9-e0601c98ed71"
   },
   "outputs": [
    {
     "data": {
      "text/plain": [
       "2"
      ]
     },
     "execution_count": 2,
     "metadata": {},
     "output_type": "execute_result"
    }
   ],
   "source": [
    "# Correct Code:\n",
    "a = int(2.8)\n",
    "a"
   ]
  },
  {
   "cell_type": "markdown",
   "metadata": {
    "id": "4qe_viFsDxbR"
   },
   "source": [
    "## Indentation Error \n",
    "\n",
    "Indentation refers to the spaces in the begining of our code. In other programming languages, indentation is only for readability whereas in python, indentation is very important. \n",
    "\n",
    "*Python uses indentation to indicate a block of code*."
   ]
  },
  {
   "cell_type": "code",
   "execution_count": 2,
   "metadata": {
    "colab": {
     "base_uri": "https://localhost:8080/",
     "height": 130
    },
    "executionInfo": {
     "elapsed": 408,
     "status": "error",
     "timestamp": 1656475160129,
     "user": {
      "displayName": "Himani Gulati",
      "userId": "01891132410038126744"
     },
     "user_tz": -330
    },
    "id": "MlNJ0ixpZlSF",
    "outputId": "380ca3fc-1bb0-4171-fc5f-2cc733454092"
   },
   "outputs": [
    {
     "ename": "IndentationError",
     "evalue": "ignored",
     "output_type": "error",
     "traceback": [
      "\u001b[0;36m  File \u001b[0;32m\"<ipython-input-2-105c4c607e6c>\"\u001b[0;36m, line \u001b[0;32m2\u001b[0m\n\u001b[0;31m    print(\"*\")\u001b[0m\n\u001b[0m        ^\u001b[0m\n\u001b[0;31mIndentationError\u001b[0m\u001b[0;31m:\u001b[0m expected an indented block\n"
     ]
    }
   ],
   "source": [
    "for i in range(5):\n",
    "print(\"*\")"
   ]
  },
  {
   "cell_type": "markdown",
   "metadata": {
    "id": "yTgVvl-SbZIJ"
   },
   "source": [
    "In the above code, the missing indentation before `print` raises an IndentationError. \n",
    "\n",
    "![](https://i.imgflip.com/3g3u5v.jpg)"
   ]
  },
  {
   "cell_type": "markdown",
   "metadata": {
    "id": "I0fAeTvDvnoB"
   },
   "source": [
    "## Index Error\n",
    "\n",
    "The `IndexError` is thrown when we try to access an element who's index is not in the range of our iterable object. \n",
    "\n",
    "\n",
    "\n"
   ]
  },
  {
   "cell_type": "code",
   "execution_count": 4,
   "metadata": {
    "colab": {
     "base_uri": "https://localhost:8080/",
     "height": 182
    },
    "executionInfo": {
     "elapsed": 397,
     "status": "error",
     "timestamp": 1656475523005,
     "user": {
      "displayName": "Himani Gulati",
      "userId": "01891132410038126744"
     },
     "user_tz": -330
    },
    "id": "pRIZO5E-oSCB",
    "outputId": "3d225a0c-f169-4342-9a0a-7dd3f0565897"
   },
   "outputs": [
    {
     "ename": "IndexError",
     "evalue": "ignored",
     "output_type": "error",
     "traceback": [
      "\u001b[0;31m---------------------------------------------------------------------------\u001b[0m",
      "\u001b[0;31mIndexError\u001b[0m                                Traceback (most recent call last)",
      "\u001b[0;32m<ipython-input-4-a6bff1ef6421>\u001b[0m in \u001b[0;36m<module>\u001b[0;34m()\u001b[0m\n\u001b[1;32m      1\u001b[0m \u001b[0ma_list\u001b[0m \u001b[0;34m=\u001b[0m \u001b[0;34m[\u001b[0m\u001b[0mi\u001b[0m \u001b[0;32mfor\u001b[0m \u001b[0mi\u001b[0m \u001b[0;32min\u001b[0m \u001b[0;34m'abcdefgh'\u001b[0m\u001b[0;34m]\u001b[0m\u001b[0;34m\u001b[0m\u001b[0;34m\u001b[0m\u001b[0m\n\u001b[0;32m----> 2\u001b[0;31m \u001b[0ma_list\u001b[0m\u001b[0;34m[\u001b[0m\u001b[0mlen\u001b[0m\u001b[0;34m(\u001b[0m\u001b[0ma_list\u001b[0m\u001b[0;34m)\u001b[0m\u001b[0;34m]\u001b[0m\u001b[0;34m\u001b[0m\u001b[0;34m\u001b[0m\u001b[0m\n\u001b[0m",
      "\u001b[0;31mIndexError\u001b[0m: list index out of range"
     ]
    }
   ],
   "source": [
    "a_list = [i for i in 'abcdefgh']\n",
    "a_list[len(a_list)]"
   ]
  },
  {
   "cell_type": "markdown",
   "metadata": {
    "id": "mY-h9zr2oqpy"
   },
   "source": [
    "The indexing of a list begins from zero and goes upto (n-1), where n = length of list. \n",
    "In the code above, we are trying to access the element at the $nth $ index, whereas the last index is $(n-1)$.  "
   ]
  },
  {
   "cell_type": "markdown",
   "metadata": {
    "id": "N0ZcF_lHvthD"
   },
   "source": [
    "## Key Error\n",
    "\n",
    "The `KeyError` is like an IndexError but for dictionaries. It is raised when we try to access an invalid/nonexistent key in the dictionary. "
   ]
  },
  {
   "cell_type": "code",
   "execution_count": 8,
   "metadata": {
    "colab": {
     "base_uri": "https://localhost:8080/",
     "height": 200
    },
    "executionInfo": {
     "elapsed": 396,
     "status": "error",
     "timestamp": 1656477661516,
     "user": {
      "displayName": "Himani Gulati",
      "userId": "01891132410038126744"
     },
     "user_tz": -330
    },
    "id": "4zrSzwvFvxHJ",
    "outputId": "98ed3732-d2f3-408b-f0e0-8e755f8bf26c"
   },
   "outputs": [
    {
     "ename": "KeyError",
     "evalue": "ignored",
     "output_type": "error",
     "traceback": [
      "\u001b[0;31m---------------------------------------------------------------------------\u001b[0m",
      "\u001b[0;31mKeyError\u001b[0m                                  Traceback (most recent call last)",
      "\u001b[0;32m<ipython-input-8-372a1f172dda>\u001b[0m in \u001b[0;36m<module>\u001b[0;34m()\u001b[0m\n\u001b[1;32m      1\u001b[0m \u001b[0ma_dict\u001b[0m \u001b[0;34m=\u001b[0m \u001b[0;34m{\u001b[0m\u001b[0;34m'a'\u001b[0m\u001b[0;34m:\u001b[0m\u001b[0;36m1\u001b[0m\u001b[0;34m,\u001b[0m \u001b[0;34m'b'\u001b[0m \u001b[0;34m:\u001b[0m \u001b[0;36m2\u001b[0m\u001b[0;34m,\u001b[0m \u001b[0;34m'c'\u001b[0m \u001b[0;34m:\u001b[0m\u001b[0;36m3\u001b[0m\u001b[0;34m}\u001b[0m\u001b[0;34m\u001b[0m\u001b[0;34m\u001b[0m\u001b[0m\n\u001b[1;32m      2\u001b[0m \u001b[0;34m\u001b[0m\u001b[0m\n\u001b[0;32m----> 3\u001b[0;31m \u001b[0ma_dict\u001b[0m\u001b[0;34m[\u001b[0m\u001b[0;34m'd'\u001b[0m\u001b[0;34m]\u001b[0m\u001b[0;34m\u001b[0m\u001b[0;34m\u001b[0m\u001b[0m\n\u001b[0m",
      "\u001b[0;31mKeyError\u001b[0m: 'd'"
     ]
    }
   ],
   "source": [
    "a_dict = {'a':1, 'b' : 2, 'c' :3}\n",
    "\n",
    "a_dict['d']"
   ]
  },
  {
   "cell_type": "markdown",
   "metadata": {
    "id": "WF70Ue8mL4XF"
   },
   "source": [
    "## Import Error  \n",
    "\n",
    "This exception is raised when the parser is not able to import the module that is needed to be imported.\n",
    "\n",
    "\n",
    "\n"
   ]
  },
  {
   "cell_type": "code",
   "execution_count": 4,
   "metadata": {
    "colab": {
     "base_uri": "https://localhost:8080/",
     "height": 321
    },
    "executionInfo": {
     "elapsed": 630,
     "status": "error",
     "timestamp": 1656524957871,
     "user": {
      "displayName": "Himani Gulati",
      "userId": "01891132410038126744"
     },
     "user_tz": -330
    },
    "id": "TUdosEv_kQXF",
    "outputId": "e7dd408e-fc1e-4c28-9729-5e6ef6cba86d"
   },
   "outputs": [
    {
     "ename": "ImportError",
     "errorDetails": {
      "actions": [
       {
        "action": "open_url",
        "actionText": "Open Examples",
        "url": "/notebooks/snippets/importing_libraries.ipynb"
       }
      ]
     },
     "evalue": "ignored",
     "output_type": "error",
     "traceback": [
      "\u001b[0;31m---------------------------------------------------------------------------\u001b[0m",
      "\u001b[0;31mImportError\u001b[0m                               Traceback (most recent call last)",
      "\u001b[0;32m<ipython-input-4-be0dea60ada8>\u001b[0m in \u001b[0;36m<module>\u001b[0;34m()\u001b[0m\n\u001b[0;32m----> 1\u001b[0;31m \u001b[0;32mfrom\u001b[0m \u001b[0mnumpy\u001b[0m \u001b[0;32mimport\u001b[0m \u001b[0mmediam\u001b[0m\u001b[0;34m\u001b[0m\u001b[0;34m\u001b[0m\u001b[0m\n\u001b[0m",
      "\u001b[0;31mImportError\u001b[0m: cannot import name 'mediam' from 'numpy' (/usr/local/lib/python3.7/dist-packages/numpy/__init__.py)",
      "",
      "\u001b[0;31m---------------------------------------------------------------------------\u001b[0;32m\nNOTE: If your import is failing due to a missing package, you can\nmanually install dependencies using either !pip or !apt.\n\nTo view examples of installing some common dependencies, click the\n\"Open Examples\" button below.\n\u001b[0;31m---------------------------------------------------------------------------\u001b[0m\n"
     ]
    }
   ],
   "source": [
    "from numpy import mediam"
   ]
  },
  {
   "cell_type": "markdown",
   "metadata": {
    "id": "M4bxIMdylRb9"
   },
   "source": [
    "Now, there is no `numpy.mediam` function in the `numpy` library. Instead the correct function is `numpy.median` which is why we got the `ImportError`."
   ]
  },
  {
   "cell_type": "markdown",
   "metadata": {
    "id": "W0osnqGGxZab"
   },
   "source": [
    "### ModuleNotFoundError\n",
    "\n",
    "This is a subclass of `ImportError`. It is raised when the module we are trying to import cannot be located. "
   ]
  },
  {
   "cell_type": "code",
   "execution_count": 5,
   "metadata": {
    "colab": {
     "base_uri": "https://localhost:8080/",
     "height": 304
    },
    "executionInfo": {
     "elapsed": 553,
     "status": "error",
     "timestamp": 1656525121980,
     "user": {
      "displayName": "Himani Gulati",
      "userId": "01891132410038126744"
     },
     "user_tz": -330
    },
    "id": "_jSVqcoGxP6f",
    "outputId": "b71cf6f4-b68a-410b-e058-a0c409ffb04d"
   },
   "outputs": [
    {
     "ename": "ModuleNotFoundError",
     "errorDetails": {
      "actions": [
       {
        "action": "open_url",
        "actionText": "Open Examples",
        "url": "/notebooks/snippets/importing_libraries.ipynb"
       }
      ]
     },
     "evalue": "ignored",
     "output_type": "error",
     "traceback": [
      "\u001b[0;31m---------------------------------------------------------------------------\u001b[0m",
      "\u001b[0;31mModuleNotFoundError\u001b[0m                       Traceback (most recent call last)",
      "\u001b[0;32m<ipython-input-5-1160ccc1fb60>\u001b[0m in \u001b[0;36m<module>\u001b[0;34m()\u001b[0m\n\u001b[0;32m----> 1\u001b[0;31m \u001b[0;32mimport\u001b[0m \u001b[0mwrongmodule\u001b[0m\u001b[0;34m\u001b[0m\u001b[0;34m\u001b[0m\u001b[0m\n\u001b[0m",
      "\u001b[0;31mModuleNotFoundError\u001b[0m: No module named 'wrongmodule'",
      "",
      "\u001b[0;31m---------------------------------------------------------------------------\u001b[0;32m\nNOTE: If your import is failing due to a missing package, you can\nmanually install dependencies using either !pip or !apt.\n\nTo view examples of installing some common dependencies, click the\n\"Open Examples\" button below.\n\u001b[0;31m---------------------------------------------------------------------------\u001b[0m\n"
     ]
    }
   ],
   "source": [
    "import wrongmodule"
   ]
  },
  {
   "cell_type": "markdown",
   "metadata": {
    "id": "2ei2Sf__l41p"
   },
   "source": [
    "Because `wrongmodule` is a made up module/library, we get the exception `ModuleNotFoundError`. "
   ]
  },
  {
   "cell_type": "markdown",
   "metadata": {
    "id": "_KXNGbJfLwO5"
   },
   "source": [
    "## Name Error \n",
    "\n",
    "The `NameError` is raised when we call an undefined variable, class or function locally or globally. \n"
   ]
  },
  {
   "cell_type": "code",
   "execution_count": 9,
   "metadata": {
    "colab": {
     "base_uri": "https://localhost:8080/",
     "height": 165
    },
    "executionInfo": {
     "elapsed": 385,
     "status": "error",
     "timestamp": 1656477769059,
     "user": {
      "displayName": "Himani Gulati",
      "userId": "01891132410038126744"
     },
     "user_tz": -330
    },
    "id": "sfVQCRdexLtg",
    "outputId": "ee8a4475-4407-4a0a-d338-fc2c4bc0cdba"
   },
   "outputs": [
    {
     "ename": "NameError",
     "evalue": "ignored",
     "output_type": "error",
     "traceback": [
      "\u001b[0;31m---------------------------------------------------------------------------\u001b[0m",
      "\u001b[0;31mNameError\u001b[0m                                 Traceback (most recent call last)",
      "\u001b[0;32m<ipython-input-9-bca0e2660b9f>\u001b[0m in \u001b[0;36m<module>\u001b[0;34m()\u001b[0m\n\u001b[0;32m----> 1\u001b[0;31m \u001b[0mprint\u001b[0m\u001b[0;34m(\u001b[0m\u001b[0ma\u001b[0m\u001b[0;34m)\u001b[0m\u001b[0;34m\u001b[0m\u001b[0;34m\u001b[0m\u001b[0m\n\u001b[0m",
      "\u001b[0;31mNameError\u001b[0m: name 'a' is not defined"
     ]
    }
   ],
   "source": [
    "print(a)"
   ]
  },
  {
   "cell_type": "markdown",
   "metadata": {
    "id": "sbceOSEGL092"
   },
   "source": [
    "## Attribute Error\n",
    "\n",
    "An `AttributeError` is thrown when we access that attribute on an object which it doesnt have defined. \n",
    "\n",
    "For example in the code below, we are trying to access the `length` attribute of an instance of `Frame` class. But because there is no such attribute as `length` defined, we get an `AttributeError`. "
   ]
  },
  {
   "cell_type": "code",
   "execution_count": 3,
   "metadata": {
    "colab": {
     "base_uri": "https://localhost:8080/",
     "height": 200
    },
    "executionInfo": {
     "elapsed": 376,
     "status": "error",
     "timestamp": 1656492147455,
     "user": {
      "displayName": "Himani Gulati",
      "userId": "01891132410038126744"
     },
     "user_tz": -330
    },
    "id": "Gd-djChiZlOj",
    "outputId": "6f7a3ddd-fecc-46ac-b40e-8a9009697fbf"
   },
   "outputs": [
    {
     "ename": "AttributeError",
     "evalue": "ignored",
     "output_type": "error",
     "traceback": [
      "\u001b[0;31m---------------------------------------------------------------------------\u001b[0m",
      "\u001b[0;31mAttributeError\u001b[0m                            Traceback (most recent call last)",
      "\u001b[0;32m<ipython-input-3-743aa5d02062>\u001b[0m in \u001b[0;36m<module>\u001b[0;34m()\u001b[0m\n\u001b[1;32m      7\u001b[0m \u001b[0mframe2\u001b[0m \u001b[0;34m=\u001b[0m \u001b[0mFrame\u001b[0m\u001b[0;34m(\u001b[0m\u001b[0mbreadth\u001b[0m\u001b[0;34m=\u001b[0m\u001b[0;36m20\u001b[0m\u001b[0;34m)\u001b[0m\u001b[0;34m\u001b[0m\u001b[0;34m\u001b[0m\u001b[0m\n\u001b[1;32m      8\u001b[0m \u001b[0;34m\u001b[0m\u001b[0m\n\u001b[0;32m----> 9\u001b[0;31m \u001b[0mframe2\u001b[0m\u001b[0;34m.\u001b[0m\u001b[0mlength\u001b[0m\u001b[0;34m\u001b[0m\u001b[0;34m\u001b[0m\u001b[0m\n\u001b[0m",
      "\u001b[0;31mAttributeError\u001b[0m: 'Frame' object has no attribute 'length'"
     ]
    }
   ],
   "source": [
    "class Frame:\n",
    "  count = 0\n",
    "  def __init__(self, breadth = 15):\n",
    "    Frame.count +=1\n",
    "\n",
    "frame1 = Frame()\n",
    "frame2 = Frame(breadth=20)\n",
    "\n",
    "frame2.length\n"
   ]
  },
  {
   "cell_type": "markdown",
   "metadata": {
    "id": "qKo-wb2iL7CK"
   },
   "source": [
    "## Value Error\n",
    "\n",
    "A value error is raised when an operation in python is given the right type of argument but an inappropriate value. \n",
    "\n",
    "This can be considered a more generic case of `IndexError`. Where an element is being accesed but is not present. Or visa versa.\n",
    "\n",
    "Let's look at some examples of value error. "
   ]
  },
  {
   "cell_type": "code",
   "execution_count": 7,
   "metadata": {
    "colab": {
     "base_uri": "https://localhost:8080/",
     "height": 165
    },
    "executionInfo": {
     "elapsed": 366,
     "status": "error",
     "timestamp": 1656494378444,
     "user": {
      "displayName": "Himani Gulati",
      "userId": "01891132410038126744"
     },
     "user_tz": -330
    },
    "id": "05IXsl8fvuRT",
    "outputId": "bbdcb102-2087-4edd-dbd8-fe02d8aa7a3e"
   },
   "outputs": [
    {
     "ename": "ValueError",
     "evalue": "ignored",
     "output_type": "error",
     "traceback": [
      "\u001b[0;31m---------------------------------------------------------------------------\u001b[0m",
      "\u001b[0;31mValueError\u001b[0m                                Traceback (most recent call last)",
      "\u001b[0;32m<ipython-input-7-ff438f317ff0>\u001b[0m in \u001b[0;36m<module>\u001b[0;34m()\u001b[0m\n\u001b[0;32m----> 1\u001b[0;31m \u001b[0ma\u001b[0m\u001b[0;34m,\u001b[0m\u001b[0mb\u001b[0m \u001b[0;34m=\u001b[0m \u001b[0;36m2\u001b[0m\u001b[0;34m,\u001b[0m\u001b[0;36m4\u001b[0m\u001b[0;34m,\u001b[0m\u001b[0;36m6\u001b[0m\u001b[0;34m\u001b[0m\u001b[0;34m\u001b[0m\u001b[0m\n\u001b[0m",
      "\u001b[0;31mValueError\u001b[0m: too many values to unpack (expected 2)"
     ]
    }
   ],
   "source": [
    "a,b = 2,4,6"
   ]
  },
  {
   "cell_type": "code",
   "execution_count": 8,
   "metadata": {
    "colab": {
     "base_uri": "https://localhost:8080/",
     "height": 165
    },
    "executionInfo": {
     "elapsed": 685,
     "status": "error",
     "timestamp": 1656494397625,
     "user": {
      "displayName": "Himani Gulati",
      "userId": "01891132410038126744"
     },
     "user_tz": -330
    },
    "id": "a8gPdLQ8wmBo",
    "outputId": "285a4f3e-66b8-48a8-9470-396c572f6a00"
   },
   "outputs": [
    {
     "ename": "ValueError",
     "evalue": "ignored",
     "output_type": "error",
     "traceback": [
      "\u001b[0;31m---------------------------------------------------------------------------\u001b[0m",
      "\u001b[0;31mValueError\u001b[0m                                Traceback (most recent call last)",
      "\u001b[0;32m<ipython-input-8-1d9e98dc2a69>\u001b[0m in \u001b[0;36m<module>\u001b[0;34m()\u001b[0m\n\u001b[0;32m----> 1\u001b[0;31m \u001b[0mfloat\u001b[0m\u001b[0;34m(\u001b[0m\u001b[0;34m'abc'\u001b[0m\u001b[0;34m)\u001b[0m\u001b[0;34m\u001b[0m\u001b[0;34m\u001b[0m\u001b[0m\n\u001b[0m",
      "\u001b[0;31mValueError\u001b[0m: could not convert string to float: 'abc'"
     ]
    }
   ],
   "source": [
    "float('abc')"
   ]
  },
  {
   "cell_type": "markdown",
   "metadata": {
    "id": "2BMK7GVrvvzg"
   },
   "source": [
    "## Type Error \n",
    "\n",
    "A `TypeError` is thrown when a python function/operation is applied to an object of inappropriate datatype. For example, adding two strings. "
   ]
  },
  {
   "cell_type": "code",
   "execution_count": 8,
   "metadata": {
    "colab": {
     "base_uri": "https://localhost:8080/",
     "height": 165
    },
    "executionInfo": {
     "elapsed": 805,
     "status": "error",
     "timestamp": 1656526066383,
     "user": {
      "displayName": "Himani Gulati",
      "userId": "01891132410038126744"
     },
     "user_tz": -330
    },
    "id": "5jkDucBQpOqA",
    "outputId": "1805b10d-e736-4d51-de60-833e77ea9445"
   },
   "outputs": [
    {
     "ename": "TypeError",
     "evalue": "ignored",
     "output_type": "error",
     "traceback": [
      "\u001b[0;31m---------------------------------------------------------------------------\u001b[0m",
      "\u001b[0;31mTypeError\u001b[0m                                 Traceback (most recent call last)",
      "\u001b[0;32m<ipython-input-8-6bee6b900189>\u001b[0m in \u001b[0;36m<module>\u001b[0;34m()\u001b[0m\n\u001b[0;32m----> 1\u001b[0;31m \u001b[0msum\u001b[0m\u001b[0;34m(\u001b[0m\u001b[0;34m'a'\u001b[0m\u001b[0;34m,\u001b[0m\u001b[0;34m'b'\u001b[0m\u001b[0;34m)\u001b[0m\u001b[0;34m\u001b[0m\u001b[0;34m\u001b[0m\u001b[0m\n\u001b[0m",
      "\u001b[0;31mTypeError\u001b[0m: sum() can't sum strings [use ''.join(seq) instead]"
     ]
    }
   ],
   "source": [
    "sum('a','b')"
   ]
  },
  {
   "cell_type": "code",
   "execution_count": 4,
   "metadata": {
    "colab": {
     "base_uri": "https://localhost:8080/",
     "height": 200
    },
    "executionInfo": {
     "elapsed": 457,
     "status": "error",
     "timestamp": 1656493208486,
     "user": {
      "displayName": "Himani Gulati",
      "userId": "01891132410038126744"
     },
     "user_tz": -330
    },
    "id": "HVFWeuqu6LLO",
    "outputId": "8594f96e-5014-4ee7-8750-7e8087e1af66"
   },
   "outputs": [
    {
     "ename": "TypeError",
     "evalue": "ignored",
     "output_type": "error",
     "traceback": [
      "\u001b[0;31m---------------------------------------------------------------------------\u001b[0m",
      "\u001b[0;31mTypeError\u001b[0m                                 Traceback (most recent call last)",
      "\u001b[0;32m<ipython-input-4-6c1ac4e6b6a6>\u001b[0m in \u001b[0;36m<module>\u001b[0;34m()\u001b[0m\n\u001b[1;32m      2\u001b[0m   \u001b[0mprint\u001b[0m\u001b[0;34m(\u001b[0m\u001b[0;34m'a'\u001b[0m\u001b[0;34m)\u001b[0m\u001b[0;34m\u001b[0m\u001b[0;34m\u001b[0m\u001b[0m\n\u001b[1;32m      3\u001b[0m \u001b[0;34m\u001b[0m\u001b[0m\n\u001b[0;32m----> 4\u001b[0;31m \u001b[0mfunction_name\u001b[0m\u001b[0;34m(\u001b[0m\u001b[0;36m1\u001b[0m\u001b[0;34m)\u001b[0m\u001b[0;34m\u001b[0m\u001b[0;34m\u001b[0m\u001b[0m\n\u001b[0m",
      "\u001b[0;31mTypeError\u001b[0m: function_name() takes 0 positional arguments but 1 was given"
     ]
    }
   ],
   "source": [
    "def function_name():\n",
    "  print('a')\n",
    "\n",
    "function_name(1)\n"
   ]
  },
  {
   "cell_type": "code",
   "execution_count": null,
   "metadata": {
    "id": "qsJwaBxgZk4X"
   },
   "outputs": [],
   "source": []
  },
  {
   "cell_type": "markdown",
   "metadata": {
    "id": "bYINGJttu4yy"
   },
   "source": [
    "## Conclusion \n",
    "\n",
    "To get hold of your python errors, it is important to delve into tracebacks and built-in exceptions. There are a bunch of inbuilt exceptions we haven't talked about here, but you can find in the [python documentary](https://docs.python.org/3/library/exceptions.html#built-in-exceptions).\n",
    "\n",
    "Exception handling is one such technique to get passed these errors without letting your code terminate in the middle. More on that later. "
   ]
  },
  {
   "cell_type": "markdown",
   "metadata": {
    "id": "sLqFqh8Pz2Hd"
   },
   "source": [
    "## References\n",
    "\n",
    "- https://docs.python.org/3/library/exceptions.html#built-in-exceptions\n",
    "\n",
    "- https://realpython.com/python-traceback/"
   ]
  },
  {
   "cell_type": "code",
   "execution_count": null,
   "metadata": {
    "colab": {
     "base_uri": "https://localhost:8080/"
    },
    "id": "u7cdVeQ2YENk",
    "outputId": "f2ecdae2-fcb2-412f-f9d7-9b84996ec234"
   },
   "outputs": [
    {
     "name": "stdout",
     "output_type": "stream",
     "text": [
      "[jovian] Detected Colab notebook...\u001b[0m\n",
      "[jovian] Please enter your API key ( from https://jovian.ai/ ):\u001b[0m\n",
      "API KEY: "
     ]
    }
   ],
   "source": [
    "# Execute this to save new versions of the notebook\n",
    "jovian.commit(project=\"python-common-errors\")"
   ]
  },
  {
   "cell_type": "code",
   "execution_count": null,
   "metadata": {
    "id": "BmKDJ5kPYENk"
   },
   "outputs": [],
   "source": []
  }
 ],
 "metadata": {
  "colab": {
   "collapsed_sections": [],
   "name": "python-common-errors.ipynb",
   "provenance": []
  },
  "language_info": {
   "codemirror_mode": {
    "name": "ipython",
    "version": 3
   },
   "file_extension": ".py",
   "mimetype": "text/x-python",
   "name": "python",
   "nbconvert_exporter": "python",
   "pygments_lexer": "ipython3",
   "version": "3.7.6"
  }
 },
 "nbformat": 4,
 "nbformat_minor": 0
}